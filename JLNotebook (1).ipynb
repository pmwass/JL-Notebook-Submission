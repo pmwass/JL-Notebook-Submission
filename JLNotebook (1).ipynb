{
 "cells": [
  {
   "cell_type": "markdown",
   "id": "02c4dd2a-7fef-46a2-ab57-771bb89da866",
   "metadata": {},
   "source": [
    "# JL Notebook"
   ]
  },
  {
   "cell_type": "markdown",
   "id": "4ac6a962-621e-4720-b4da-06b47bbddad8",
   "metadata": {},
   "source": [
    "This is a peer-graded assignment demonstrating the Jupyterlite Notebook."
   ]
  },
  {
   "cell_type": "markdown",
   "id": "c6eb7891-eb9b-4adb-83a1-db0915adf0b5",
   "metadata": {},
   "source": [
    "Some popular languages used by Data Scientists:<br>\n",
    "    1. Python<br>\n",
    "    2. Scala<br>\n",
    "    3. Julia<br>\n",
    "    4. R"
   ]
  },
  {
   "cell_type": "markdown",
   "id": "da3bc7a8-b884-4b78-a328-2f2971d4ff28",
   "metadata": {},
   "source": [
    "Some libraries commonly used by Data Scientists:<br>\n",
    "    1. Matplotlib<br>\n",
    "    2. Scikit-learn<br>\n",
    "    3. Keras<br>\n",
    "    4. NumPy<br>\n",
    "    5. Vegas"
   ]
  },
  {
   "cell_type": "markdown",
   "id": "71f64912-ead6-4923-b1e1-6d3df9a2895b",
   "metadata": {},
   "source": [
    "|Data Science tools|\n",
    "|------------------|\n",
    "|Jupyter Notebooks|\n",
    "|Zeppelin|\n",
    "|Spyder|"
   ]
  },
  {
   "cell_type": "markdown",
   "id": "021b513d-e0ea-4201-bff5-20395ce6c657",
   "metadata": {},
   "source": [
    "### The following cell will demonstrate how to perform simple addition and multiplication arithmetic expressions in Python"
   ]
  },
  {
   "cell_type": "code",
   "execution_count": 2,
   "id": "8e219735-9972-48a0-83c5-96d0a34d6aec",
   "metadata": {},
   "outputs": [
    {
     "data": {
      "text/plain": [
       "17"
      ]
     },
     "execution_count": 2,
     "metadata": {},
     "output_type": "execute_result"
    }
   ],
   "source": [
    "# Demonstration of arithmetic expression by multiplying and adding integers\n",
    "(3*4)+5"
   ]
  },
  {
   "cell_type": "code",
   "execution_count": 6,
   "id": "8c9e5f31-ee8c-4697-b169-a4f73f5ce4f3",
   "metadata": {},
   "outputs": [
    {
     "data": {
      "text/plain": [
       "3.3333333333333335"
      ]
     },
     "execution_count": 6,
     "metadata": {},
     "output_type": "execute_result"
    }
   ],
   "source": [
    "# Converting 200 minutes into hours by dividing by 60\n",
    "200/60"
   ]
  },
  {
   "cell_type": "markdown",
   "id": "bb6b0a79-3f0f-4a16-853b-14f148aec483",
   "metadata": {},
   "source": [
    "__Objectives of this exercise include:__<br>\n",
    "- Use comments in code cells<br>\n",
    "- Create and use markdown cells<br>\n",
    "- Use ordered and unordered lists in markdown cells"
   ]
  },
  {
   "cell_type": "markdown",
   "id": "a4a17020-7bcb-4c19-b811-feb7dae48eac",
   "metadata": {},
   "source": [
    "## Author:<br>\n",
    "Princeton Wassajja-Mutebi"
   ]
  }
 ],
 "metadata": {
  "kernelspec": {
   "display_name": "Python",
   "language": "python",
   "name": "conda-env-python-py"
  },
  "language_info": {
   "codemirror_mode": {
    "name": "ipython",
    "version": 3
   },
   "file_extension": ".py",
   "mimetype": "text/x-python",
   "name": "python",
   "nbconvert_exporter": "python",
   "pygments_lexer": "ipython3",
   "version": "3.7.12"
  }
 },
 "nbformat": 4,
 "nbformat_minor": 5
}
